{
 "cells": [
  {
   "cell_type": "markdown",
   "metadata": {},
   "source": [
    "pyautogui 도 병행해서 사용하는 것이 좋은데, 그 이유는 locateAllonScreen 함수 때문이다. 이 함수를 사용하면 게임 내에서 특정 이미지를 찾아서 그 좌표를 알려준다. 예를 들어 muro.png라는 파일에 내가 원하는 이미지를 넣어두면, 화면 내에서 해당 이미지와 일치하는 것들의 목록을 다음의 코드로 가져올 수 있다.\n",
    "\n",
    "1\n",
    "mine = list(pyautogui.locateAllOnScreen('muro.png', confidence=0.9))\n",
    "이건 사실상 OpenCV 기술을 이용하는 것으로 보인다. 그리고 간혹 어떤 물체에 가려지거나 하는 이유로 그림이 100% 정확하지 않으면 잘 안 찾아지는 현상이 있는데, 이걸 보완해주는 것이 confidence 옵션이다. 예를 들어 0.9로 지정해두면 90% 이상 일치하는 이미지라면 해당하는 것으로 간주한다.\n",
    "\n",
    "이걸 이용하면... 광물 등의 자원 위치를 자동으로 찾아갈 수 있게 해 준다.\n",
    "\n",
    "그리고 마우스 클릭 이벤트는 아래와 같이 주어진 좌표로 발생시킬 수 있다."
   ]
  },
  {
   "cell_type": "code",
   "execution_count": null,
   "metadata": {},
   "outputs": [],
   "source": [
    "import pywinauto\n",
    "import pyautogui\n",
    "pywinauto.mouse.click(button='left', coords =(1163, 562))\n",
    "pyautogui.press('right', presses=30)\n"
   ]
  },
  {
   "cell_type": "code",
   "execution_count": null,
   "metadata": {},
   "outputs": [],
   "source": []
  }
 ],
 "metadata": {
  "kernelspec": {
   "display_name": "base",
   "language": "python",
   "name": "python3"
  },
  "language_info": {
   "name": "python",
   "version": "3.11.5"
  }
 },
 "nbformat": 4,
 "nbformat_minor": 2
}
